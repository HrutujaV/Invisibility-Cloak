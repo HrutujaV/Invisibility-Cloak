{
 "cells": [
  {
   "cell_type": "code",
   "execution_count": null,
   "id": "1e1e4933",
   "metadata": {},
   "outputs": [],
   "source": [
    "# test_camera.py\n",
    "import cv2\n",
    " \n",
    "cap = cv2.VideoCapture(0)\n",
    " \n",
    "if not cap.isOpened():\n",
    "    print(\"Cannot access camera\")\n",
    "    exit()\n",
    " \n",
    "print(\"Camera is working. Press 'q' to quit.\")\n",
    " \n",
    "while True:\n",
    "    ret, frame = cap.read()\n",
    "    if not ret or frame is None:\n",
    "        print(\"Failed to grab frame\")\n",
    "        break\n",
    " \n",
    "    cv2.imshow(\"Webcam Test\", frame)\n",
    "    if cv2.waitKey(1) & 0xFF == ord('q'):\n",
    "        break\n",
    " \n",
    "cap.release()\n",
    "cv2.destroyAllWindows()\n"
   ]
  }
 ],
 "metadata": {
  "language_info": {
   "name": "python"
  }
 },
 "nbformat": 4,
 "nbformat_minor": 5
}
